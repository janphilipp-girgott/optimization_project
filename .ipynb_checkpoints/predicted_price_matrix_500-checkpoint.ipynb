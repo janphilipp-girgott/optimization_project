{
 "cells": [
  {
   "cell_type": "code",
   "execution_count": 66,
   "id": "41a78bef-bd09-4419-a62b-c836d413ac0c",
   "metadata": {},
   "outputs": [],
   "source": [
    "import pandas as pd\n",
    "import os\n",
    "import numpy as np"
   ]
  },
  {
   "cell_type": "code",
   "execution_count": 67,
   "id": "40fe720e-4668-488d-af83-3b14d1bc9ade",
   "metadata": {},
   "outputs": [],
   "source": [
    "symbols = pd.read_csv(\"actual_price_matrix_500.csv\").iloc[:,0]"
   ]
  },
  {
   "cell_type": "code",
   "execution_count": 68,
   "id": "68043bdc-4424-488f-9bce-1779a6800b64",
   "metadata": {},
   "outputs": [
    {
     "data": {
      "text/plain": [
       "0       AAPL\n",
       "1       MSFT\n",
       "2       GOOG\n",
       "3      GOOGL\n",
       "4       AMZN\n",
       "       ...  \n",
       "495      NVR\n",
       "496     BGNE\n",
       "497      UMC\n",
       "498      LYV\n",
       "499     STLD\n",
       "Name: Unnamed: 0, Length: 500, dtype: object"
      ]
     },
     "execution_count": 68,
     "metadata": {},
     "output_type": "execute_result"
    }
   ],
   "source": [
    "symbols"
   ]
  },
  {
   "cell_type": "code",
   "execution_count": 69,
   "id": "f9800430-9dbe-4413-a9c2-f7b4f23bdb9a",
   "metadata": {},
   "outputs": [],
   "source": [
    "all_data = pd.DataFrame()  # Initialize an empty DataFrame to hold all the data\n",
    "\n",
    "for symbol in symbols:\n",
    "    file_path = f\"preds/{symbol}.csv\"  # Construct the file path\n",
    "    data = pd.read_csv(file_path).T  # Read the CSV file into a DataFrame\n",
    "    all_data = pd.concat([all_data, data])  # Concatenate the data\n",
    "\n",
    "# Reset the index of the final DataFrame\n",
    "all_data = all_data.reset_index()"
   ]
  },
  {
   "cell_type": "code",
   "execution_count": 45,
   "id": "78af8023-08c8-4608-aaa0-54a7f4a83164",
   "metadata": {},
   "outputs": [],
   "source": [
    "all_data.to_csv(\"predicted_price_matrix_500.csv\")"
   ]
  },
  {
   "cell_type": "code",
   "execution_count": 78,
   "id": "99ba59d9-f119-42be-b63f-b2a4aa847449",
   "metadata": {},
   "outputs": [],
   "source": [
    "all_data = all_data.to_numpy()"
   ]
  },
  {
   "cell_type": "code",
   "execution_count": 83,
   "id": "0213e5ef-4b8d-43e9-a719-c3dd2cac3e6a",
   "metadata": {},
   "outputs": [],
   "source": [
    "convertedArray = all_data.astype(np.float64) "
   ]
  },
  {
   "cell_type": "code",
   "execution_count": 86,
   "id": "8716e1e8-fd6e-4220-afe8-9135e027211a",
   "metadata": {},
   "outputs": [],
   "source": [
    "covariance = np.cov(convertedArray)"
   ]
  },
  {
   "cell_type": "code",
   "execution_count": 92,
   "id": "356cb964-4762-48ad-a8b4-3da75a3c2e76",
   "metadata": {},
   "outputs": [],
   "source": [
    "covariance_df = pd.DataFrame(covariance)\n",
    "covariance_df.to_csv(\"covariance_df.csv\", index=False)"
   ]
  },
  {
   "cell_type": "code",
   "execution_count": null,
   "id": "9db02674-0a17-46df-9250-091a31fb0308",
   "metadata": {},
   "outputs": [],
   "source": [
    "z_values = pd.read_csv("
   ]
  }
 ],
 "metadata": {
  "kernelspec": {
   "display_name": "Python 3 (ipykernel)",
   "language": "python",
   "name": "python3"
  },
  "language_info": {
   "codemirror_mode": {
    "name": "ipython",
    "version": 3
   },
   "file_extension": ".py",
   "mimetype": "text/x-python",
   "name": "python",
   "nbconvert_exporter": "python",
   "pygments_lexer": "ipython3",
   "version": "3.10.12"
  }
 },
 "nbformat": 4,
 "nbformat_minor": 5
}
