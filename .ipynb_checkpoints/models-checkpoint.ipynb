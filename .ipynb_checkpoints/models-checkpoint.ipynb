{
 "cells": [
  {
   "cell_type": "markdown",
   "id": "01ec5a68-18ff-45a9-9b02-f1a571a4110b",
   "metadata": {},
   "source": [
    "# Optimization Models"
   ]
  },
  {
   "cell_type": "markdown",
   "id": "5d2326ed-58b4-45d5-bedc-2760502aed3d",
   "metadata": {},
   "source": [
    "## 1 Deterministic Linear Model: Upper Baseline"
   ]
  },
  {
   "cell_type": "markdown",
   "id": "ed3340be-51b3-4b86-9c27-7e23b0455123",
   "metadata": {},
   "source": [
    "### 1.1 Mathematical Formulation"
   ]
  },
  {
   "cell_type": "markdown",
   "id": "2d187ec0-02d6-4601-bf2f-64c9cc79adc2",
   "metadata": {},
   "source": [
    "#### 1.1.1 Indices\n",
    "\\begin{align*}\n",
    "i = 1,\\dots,n &: \\quad \\text{set of stocks} \\\\\n",
    "t = 1,\\dots, T &: \\quad \\text{set of time periods} \\\\\n",
    "\\end{align*}"
   ]
  },
  {
   "cell_type": "markdown",
   "id": "d7236a61-3b8b-44fe-9b98-ff11fc42cba0",
   "metadata": {},
   "source": [
    "#### 1.1.2 Decision Variables\n",
    "\\begin{align*}\n",
    "x_{it} &: \\quad \\text{amount of stock $i$ bought during period $t$} \\\\\n",
    "z_{it} &: \\quad \\text{amount of stock $i$ owned at the end of period $t$} \\\\\n",
    "c_{t} &: \\quad \\text{cash held at the end of period $t$} \\\\\n",
    "\\end{align*}"
   ]
  },
  {
   "cell_type": "markdown",
   "id": "2ac493be-a489-4848-9915-8e993ef2dca3",
   "metadata": {},
   "source": [
    "#### 1.1.3 Input Data and Parameters\n",
    "\\begin{align*}\n",
    "P_{it} &: \\quad \\text{price of stock $i$ during period $t$} \\\\\n",
    "C^0 &: \\quad \\text{initial cash on hand for investment in stocks} \\\\\n",
    "\\alpha &: \\quad \\text{commission paid per share traded} \\\\\n",
    "\\gamma &: \\quad \\text{maximum percentage of individual stock of total value of portfolio} \\\\\n",
    "\\delta &: \\quad \\text{limit on transaction amount} \\\\\n",
    "\\end{align*}"
   ]
  },
  {
   "cell_type": "markdown",
   "id": "bd163d60-e192-44bb-91b3-b324e30dc9b7",
   "metadata": {},
   "source": [
    "### 1.1.4 Model\n",
    "\\begin{align*}\n",
    "\\max_{c,x,t} & \\quad \\sum_{i=1}^n P_{i,T}z_{i,T}+c_T \\\\\n",
    "\\text{s.t.}\n",
    "& \\quad z_{i,1} = x_{i,1} & \\quad \\forall i \\in [1,n] \\\\\n",
    "& \\quad (1+\\alpha)\\sum_{i=1}^n P_{i,1}x_{i,1} \\leq C^0 \\\\\n",
    "& \\quad z_{i,t} = z_{i,t-1} + x_{i,t} & \\quad \\forall i \\in [1,n], t \\in [2,T] \\\\\n",
    "& \\quad c_{t} = c_{t-1} - \\sum_{i=1}^n P_{it}x_{it} - \\alpha \\sum_{i=1}^n P_{it}\\vert x_{it}\\vert & \\quad  t \\in [2,T] \\\\\n",
    "& \\quad z_{i,t-1} + x_{i,t} \\geq 0 & \\quad \\forall i \\in [1,n], t \\in [2,T] \\\\\n",
    "& \\quad -\\delta\\sum_{i=1}^n (z_{i,t-1}P_{i,t}) \\leq x_{i,t}P_{i,t} \\leq \\delta\\sum_{i=1}^n (z_{i,t-1}P_{i,t}) & \\quad \\forall i \\in [1,n], t \\in [2,T] \\\\\n",
    "& \\quad P_{i,t}z_{i,t} \\leq \\gamma\\sum_{i=1}^n (P_{i,t}z_{i,t}) & \\quad \\forall i \\in [1,n], t \\in [2,T] \\\\\n",
    "& \\quad c_{t}, z_{i,t} \\geq 0 & \\quad \\forall i \\in [1,n], t \\in [1,T] \\\\\n",
    "\\end{align*}"
   ]
  },
  {
   "cell_type": "code",
   "execution_count": 21,
   "id": "7569066c-4655-45dd-91a6-b83576c50a1e",
   "metadata": {
    "scrolled": true
   },
   "outputs": [
    {
     "name": "stdout",
     "output_type": "stream",
     "text": [
      "Set parameter Username\n",
      "Academic license - for non-commercial use only - expires 2024-08-22\n",
      "Gurobi Optimizer version 10.0.3 build v10.0.3rc0 (mac64[arm])\n",
      "\n",
      "CPU model: Apple M2\n",
      "Thread count: 8 physical cores, 8 logical processors, using up to 8 threads\n",
      "\n",
      "Optimize a model with 331 rows, 160 columns and 1304 nonzeros\n",
      "Model fingerprint: 0x4a534346\n",
      "Coefficient statistics:\n",
      "  Matrix range     [6e-03, 9e+01]\n",
      "  Objective range  [1e+00, 7e+01]\n",
      "  Bounds range     [0e+00, 0e+00]\n",
      "  RHS range        [1e+05, 1e+05]\n",
      "Presolve removed 89 rows and 54 columns\n",
      "Presolve time: 0.00s\n",
      "\n",
      "Solved in 0 iterations and 0.00 seconds (0.00 work units)\n",
      "Infeasible or unbounded model\n",
      "\n",
      "User-callback calls 37, time in user-callback 0.00 sec\n"
     ]
    },
    {
     "ename": "LoadError",
     "evalue": "Result index of attribute MathOptInterface.ObjectiveValue(1) out of bounds. There are currently 0 solution(s) in the model.",
     "output_type": "error",
     "traceback": [
      "Result index of attribute MathOptInterface.ObjectiveValue(1) out of bounds. There are currently 0 solution(s) in the model.",
      "",
      "Stacktrace:",
      "  [1] check_result_index_bounds",
      "    @ ~/.julia/packages/MathOptInterface/wW7fs/src/attributes.jl:207 [inlined]",
      "  [2] get(model::Gurobi.Optimizer, attr::MathOptInterface.ObjectiveValue)",
      "    @ Gurobi ~/.julia/packages/Gurobi/W2h9r/src/MOI_wrapper/MOI_wrapper.jl:3133",
      "  [3] get(b::MathOptInterface.Bridges.LazyBridgeOptimizer{Gurobi.Optimizer}, attr::MathOptInterface.ObjectiveValue)",
      "    @ MathOptInterface.Bridges ~/.julia/packages/MathOptInterface/wW7fs/src/Bridges/bridge_optimizer.jl:1086",
      "  [4] _get_model_attribute(model::MathOptInterface.Utilities.CachingOptimizer{MathOptInterface.Bridges.LazyBridgeOptimizer{Gurobi.Optimizer}, MathOptInterface.Utilities.UniversalFallback{MathOptInterface.Utilities.Model{Float64}}}, attr::MathOptInterface.ObjectiveValue)",
      "    @ MathOptInterface.Utilities ~/.julia/packages/MathOptInterface/wW7fs/src/Utilities/cachingoptimizer.jl:828",
      "  [5] get",
      "    @ ~/.julia/packages/MathOptInterface/wW7fs/src/Utilities/cachingoptimizer.jl:876 [inlined]",
      "  [6] _moi_get_result(model::MathOptInterface.Utilities.CachingOptimizer{MathOptInterface.Bridges.LazyBridgeOptimizer{Gurobi.Optimizer}, MathOptInterface.Utilities.UniversalFallback{MathOptInterface.Utilities.Model{Float64}}}, args::MathOptInterface.ObjectiveValue)",
      "    @ JuMP ~/.julia/packages/JuMP/D44Aq/src/optimizer_interface.jl:663",
      "  [7] get(model::Model, attr::MathOptInterface.ObjectiveValue)",
      "    @ JuMP ~/.julia/packages/JuMP/D44Aq/src/optimizer_interface.jl:683",
      "  [8] objective_value(model::Model; result::Int64)",
      "    @ JuMP ~/.julia/packages/JuMP/D44Aq/src/objective.jl:54",
      "  [9] objective_value(model::Model)",
      "    @ JuMP ~/.julia/packages/JuMP/D44Aq/src/objective.jl:50",
      " [10] top-level scope",
      "    @ In[21]:47"
     ]
    }
   ],
   "source": [
    "using JuMP, Gurobi\n",
    "\n",
    "# Define the parameters\n",
    "n = 5 # Number of stocks\n",
    "T = 10 # Number of time periods\n",
    "C0 = 100000 # Initial cash\n",
    "alpha = 0.001 # Commission per share\n",
    "gamma = 0.2 # Max percentage of individual stock\n",
    "delta = 0.05 # Limit on transaction amount\n",
    "\n",
    "# Randomly generated data for stock prices (for example purposes)\n",
    "P = [91  16  19  20  59  30  15  83  20  60\n",
    " 44  25  36  40  34  59  18  60  47  41\n",
    " 51  56  74  11  46  26  35  69  55  25\n",
    " 57  18  85  59  59  81  54   6  43  41\n",
    " 32  14  89  87  90  49  79  15  60  73]\n",
    "\n",
    "# Create a model with Gurobi Optimizer\n",
    "model = Model(Gurobi.Optimizer)\n",
    "\n",
    "# Decision Variables\n",
    "@variable(model, x[1:n, 1:T]) # amount of stock i bought during period t\n",
    "@variable(model, z[1:n, 1:T] >= 0) # amount of stock i owned at the end of period t\n",
    "@variable(model, c[1:T] >= 0) # cash held at the end of period t\n",
    "@variable(model, a[1:n, 1:T]) # auxilliary variable to linearize absolute value\n",
    "\n",
    "# Objective: Maximize portfolio value at final period\n",
    "@objective(model, Max, sum(P[i, T] * z[i, T] for i in 1:n) + c[T])\n",
    "\n",
    "# Constraints\n",
    "@constraint(model, [i=1:n], z[i, 1] == x[i, 1])\n",
    "@constraint(model, (1 + alpha) * sum(P[i, 1] * x[i, 1] for i in 1:n) <= C0)\n",
    "@constraint(model, [i=1:n, t in 2:T], z[i, t] == z[i, t-1] + x[i, t])\n",
    "@constraint(model, c[1] == C0 - sum(P[i, 1] * x[i, 1] for i in 1:n) - alpha * sum(P[i, 1] * a[i, 1] for i in 1:n))\n",
    "@constraint(model, [t in 2:T], c[t] == c[t-1] - sum(P[i, t] * x[i, t] for i in 1:n) - alpha * sum(P[i, t] * a[i, t] for i in 1:n))\n",
    "@constraint(model, [i=1:n, t in 2:T], x[i,t] <= a[i,t])\n",
    "@constraint(model, [i=1:n, t in 2:T], -x[i,t] <= a[i,t])\n",
    "@constraint(model, [i=1:n, t in 2:T], z[i, t-1] + x[i, t] >= 0)\n",
    "@constraint(model, [i=1:n, t in 2:T], -delta * sum(z[i, t-1] * P[i, t] for i in 1:n) <= x[i, t] * P[i, t])\n",
    "@constraint(model, [i=1:n, t in 2:T],x[i, t] * P[i, t] <= delta * sum(z[i, t-1] * P[i, t] for i in 1:n))\n",
    "@constraint(model, [i=1:n, t in 2:T], P[i, t] * z[i, t] <= gamma * sum(P[i, t] * z[i, t] for i in 1:n))\n",
    "\n",
    "# Solve the model\n",
    "optimize!(model)\n",
    "\n",
    "# Output the results\n",
    "println(\"Optimal Portfolio Value: \", objective_value(model))\n",
    "println(\"Stocks to buy in each period: \")\n",
    "println(value.(x))\n",
    "println(\"Stocks owned at the end of each period: \")\n",
    "println(value.(z))\n",
    "println(\"Cash held at the end of each period: \")\n",
    "println(value.(c))"
   ]
  }
 ],
 "metadata": {
  "kernelspec": {
   "display_name": "Julia 1.9.2",
   "language": "julia",
   "name": "julia-1.9"
  },
  "language_info": {
   "file_extension": ".jl",
   "mimetype": "application/julia",
   "name": "julia",
   "version": "1.9.3"
  }
 },
 "nbformat": 4,
 "nbformat_minor": 5
}
