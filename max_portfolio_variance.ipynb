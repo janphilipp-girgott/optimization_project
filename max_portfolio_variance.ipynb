{
 "cells": [
  {
   "cell_type": "markdown",
   "id": "8ab7c0b9-b50e-4418-9016-c303858a7d27",
   "metadata": {},
   "source": [
    "## Maximum Portfolio Variance from Deterministic Model"
   ]
  },
  {
   "cell_type": "code",
   "execution_count": 2,
   "id": "b4a96c55-7965-4486-9a7d-1a0894e89e77",
   "metadata": {},
   "outputs": [],
   "source": [
    "import pandas as pd\n",
    "import numpy as np"
   ]
  },
  {
   "cell_type": "code",
   "execution_count": 20,
   "id": "bf324e7f-16b8-4169-a2d5-bd7f454818e7",
   "metadata": {},
   "outputs": [],
   "source": [
    "z = pd.read_csv(\"z_output.csv\")\n",
    "prices = pd.read_csv(\"actual_price_matrix_500.csv\").iloc[:,1:252]\n",
    "prices_array = prices.to_numpy()"
   ]
  },
  {
   "cell_type": "code",
   "execution_count": 24,
   "id": "ceaf1639-3ee5-4aca-ae84-b3c4ee53b550",
   "metadata": {},
   "outputs": [],
   "source": [
    "cov = np.cov(prices_array)"
   ]
  },
  {
   "cell_type": "code",
   "execution_count": 45,
   "id": "2b18ff6e-5230-4ea2-863b-48d35f22de1c",
   "metadata": {},
   "outputs": [],
   "source": [
    "relative_variances = []\n",
    "for t in range(0,len(z.columns)):\n",
    "    zt = z.iloc[:,t].to_numpy()\n",
    "    pt = prices.iloc[:,t].to_numpy()\n",
    "    variance = np.dot(np.dot(zt.T, cov), zt)\n",
    "    portfolio_value = np.dot(zt.T, pt)\n",
    "    relative_variance = variance/portfolio_value\n",
    "    relative_variances.append(relative_variance)"
   ]
  },
  {
   "cell_type": "code",
   "execution_count": 52,
   "id": "0228d361-64c7-4e56-8e33-95fbccb62546",
   "metadata": {},
   "outputs": [
    {
     "data": {
      "text/plain": [
       "1828.3059479087615"
      ]
     },
     "execution_count": 52,
     "metadata": {},
     "output_type": "execute_result"
    }
   ],
   "source": [
    "min(relative_variances)"
   ]
  },
  {
   "cell_type": "code",
   "execution_count": 53,
   "id": "f192339f-a83a-4b74-8c8f-7f69fa3a9b89",
   "metadata": {},
   "outputs": [
    {
     "data": {
      "text/plain": [
       "77806.57102341879"
      ]
     },
     "execution_count": 53,
     "metadata": {},
     "output_type": "execute_result"
    }
   ],
   "source": [
    "max(relative_variances)"
   ]
  }
 ],
 "metadata": {
  "kernelspec": {
   "display_name": "Python 3 (ipykernel)",
   "language": "python",
   "name": "python3"
  },
  "language_info": {
   "codemirror_mode": {
    "name": "ipython",
    "version": 3
   },
   "file_extension": ".py",
   "mimetype": "text/x-python",
   "name": "python",
   "nbconvert_exporter": "python",
   "pygments_lexer": "ipython3",
   "version": "3.10.12"
  }
 },
 "nbformat": 4,
 "nbformat_minor": 5
}
